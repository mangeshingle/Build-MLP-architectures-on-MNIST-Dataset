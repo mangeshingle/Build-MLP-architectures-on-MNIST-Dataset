{
 "cells": [
  {
   "cell_type": "markdown",
   "metadata": {},
   "source": [
    "# <center> Build various MLP architectures for MNIST dataset. </center>\n",
    "___"
   ]
  },
  {
   "cell_type": "markdown",
   "metadata": {},
   "source": [
    "###  <b>Exercise</b> :\n",
    "1.\tUse MNIST dataset, which is present in keras datasets.\n",
    "2.\tTry 2-hidden layer, 3-hidden layer and 5-hidden layer MLP.\n",
    "3.\tAlso use dropout and batch normalization and plot train-test error vs epochs for each model.\n",
    "4.\tWrite your observations in English as crisply and unambiguously as possible. Always quantify your results.\n"
   ]
  },
  {
   "cell_type": "markdown",
   "metadata": {},
   "source": [
    "### Information regarding data set :\n",
    "\n",
    "1. <b>Title</b>: MNIST database of handwritten digits \n",
    "\n",
    "2. <b>Sources</b>: Modified National Institute of Standards and Technology(MNIST)\n",
    "\n",
    "3. <b>Relevant Information</b>: The MNIST database of handwritten digits, available from the page(http://yann.lecun.com/exdb/mnist/), has a training set of 60,000 examples, and a test set of 10,000 examples. It is a subset of a larger set available from NIST. The digits have been size-normalized and centered in a fixed-size image.."
   ]
  },
  {
   "cell_type": "code",
   "execution_count": 119,
   "metadata": {},
   "outputs": [],
   "source": [
    "import warnings\n",
    "from sklearn.exceptions import DataConversionWarning\n",
    "warnings.filterwarnings(action='ignore', category=DataConversionWarning)\n",
    "\n",
    "# For plotting purposes\n",
    "import matplotlib.pyplot as plt\n",
    "import seaborn as sns\n",
    "from sklearn.preprocessing import MinMaxScaler\n",
    "from keras.utils import to_categorical\n",
    "from keras.models import Sequential \n",
    "from keras.initializers import he_normal\n",
    "from keras.layers import BatchNormalization, Dense, Dropout\n",
    "\n",
    "# Import MNIST Dataset\n",
    "from keras.datasets import mnist"
   ]
  },
  {
   "cell_type": "code",
   "execution_count": 120,
   "metadata": {},
   "outputs": [],
   "source": [
    "# Load and split MNIST dataset\n",
    "(x_train,y_train),(x_test,y_test) = mnist.load_data()"
   ]
  },
  {
   "cell_type": "code",
   "execution_count": 121,
   "metadata": {},
   "outputs": [
    {
     "name": "stdout",
     "output_type": "stream",
     "text": [
      "x_train shape:  (60000, 28, 28)\n",
      "x_test shape:  (10000, 28, 28)\n",
      "Number of training examples : 60000 and each image is of shape (28, 28)\n",
      "Number of testing examples : 10000 and each image is of shape (28, 28)\n"
     ]
    }
   ],
   "source": [
    "print(\"x_train shape: \", x_train.shape)\n",
    "print(\"x_test shape: \", x_test.shape)\n",
    "print(\"Number of training examples :\", x_train.shape[0], \"and each image is of shape (%d, %d)\"%(x_train.shape[1], x_train.shape[2]))\n",
    "print(\"Number of testing examples :\", x_test.shape[0], \"and each image is of shape (%d, %d)\"%(x_test.shape[1], x_test.shape[2]))"
   ]
  },
  {
   "cell_type": "markdown",
   "metadata": {},
   "source": [
    "<br/>\n",
    "\n",
    "##### If we observe the input shape its 3 dimensional vector, so for each image we have a (28*28) vector.\n",
    "##### We will convert the (28*28) vector into single dimensional vector of 1 * 784 "
   ]
  },
  {
   "cell_type": "code",
   "execution_count": 122,
   "metadata": {},
   "outputs": [
    {
     "name": "stdout",
     "output_type": "stream",
     "text": [
      "x_train shape:  (60000, 784)\n",
      "x_test shape:  (10000, 784)\n",
      "Number of training examples : 60000 and each image is of shape (784)\n",
      "Number of training examples : 10000 and each image is of shape (784)\n"
     ]
    }
   ],
   "source": [
    "x_train = x_train.reshape(x_train.shape[0], x_train.shape[1]*x_train.shape[2]) \n",
    "x_test = x_test.reshape(x_test.shape[0], x_test.shape[1]*x_test.shape[2]) \n",
    "\n",
    "# after converting the input images from 3d to 2d vectors\n",
    "print(\"x_train shape: \", x_train.shape)\n",
    "print(\"x_test shape: \", x_test.shape)\n",
    "print(\"Number of training examples :\", x_train.shape[0], \"and each image is of shape (%d)\"%(x_train.shape[1]))\n",
    "print(\"Number of training examples :\", x_test.shape[0], \"and each image is of shape (%d)\"%(x_test.shape[1]))"
   ]
  },
  {
   "cell_type": "code",
   "execution_count": 123,
   "metadata": {},
   "outputs": [
    {
     "name": "stdout",
     "output_type": "stream",
     "text": [
      "[  0   0   0   0   0   0   0   0   0   0   0   0   0   0   0   0   0   0\n",
      "   0   0   0   0   0   0   0   0   0   0   0   0   0   0   0   0   0   0\n",
      "   0   0   0   0   0   0   0   0   0   0   0   0   0   0   0   0   0   0\n",
      "   0   0   0   0   0   0   0   0   0   0   0   0   0   0   0   0   0   0\n",
      "   0   0   0   0   0   0   0   0   0   0   0   0   0   0   0   0   0   0\n",
      "   0   0   0   0   0   0   0   0   0   0   0   0   0   0   0   0   0   0\n",
      "   0   0   0   0   0   0   0   0   0   0   0   0   0   0   0   0   0   0\n",
      "   0   0   0   0   0   0   0   0   0   0   0   0   0   0   0   0   0   0\n",
      "   0   0   0   0   0   0   0   0   3  18  18  18 126 136 175  26 166 255\n",
      " 247 127   0   0   0   0   0   0   0   0   0   0   0   0  30  36  94 154\n",
      " 170 253 253 253 253 253 225 172 253 242 195  64   0   0   0   0   0   0\n",
      "   0   0   0   0   0  49 238 253 253 253 253 253 253 253 253 251  93  82\n",
      "  82  56  39   0   0   0   0   0   0   0   0   0   0   0   0  18 219 253\n",
      " 253 253 253 253 198 182 247 241   0   0   0   0   0   0   0   0   0   0\n",
      "   0   0   0   0   0   0   0   0  80 156 107 253 253 205  11   0  43 154\n",
      "   0   0   0   0   0   0   0   0   0   0   0   0   0   0   0   0   0   0\n",
      "   0  14   1 154 253  90   0   0   0   0   0   0   0   0   0   0   0   0\n",
      "   0   0   0   0   0   0   0   0   0   0   0   0   0 139 253 190   2   0\n",
      "   0   0   0   0   0   0   0   0   0   0   0   0   0   0   0   0   0   0\n",
      "   0   0   0   0   0  11 190 253  70   0   0   0   0   0   0   0   0   0\n",
      "   0   0   0   0   0   0   0   0   0   0   0   0   0   0   0   0  35 241\n",
      " 225 160 108   1   0   0   0   0   0   0   0   0   0   0   0   0   0   0\n",
      "   0   0   0   0   0   0   0   0   0  81 240 253 253 119  25   0   0   0\n",
      "   0   0   0   0   0   0   0   0   0   0   0   0   0   0   0   0   0   0\n",
      "   0   0  45 186 253 253 150  27   0   0   0   0   0   0   0   0   0   0\n",
      "   0   0   0   0   0   0   0   0   0   0   0   0   0  16  93 252 253 187\n",
      "   0   0   0   0   0   0   0   0   0   0   0   0   0   0   0   0   0   0\n",
      "   0   0   0   0   0   0   0 249 253 249  64   0   0   0   0   0   0   0\n",
      "   0   0   0   0   0   0   0   0   0   0   0   0   0   0  46 130 183 253\n",
      " 253 207   2   0   0   0   0   0   0   0   0   0   0   0   0   0   0   0\n",
      "   0   0   0   0  39 148 229 253 253 253 250 182   0   0   0   0   0   0\n",
      "   0   0   0   0   0   0   0   0   0   0   0   0  24 114 221 253 253 253\n",
      " 253 201  78   0   0   0   0   0   0   0   0   0   0   0   0   0   0   0\n",
      "   0   0  23  66 213 253 253 253 253 198  81   2   0   0   0   0   0   0\n",
      "   0   0   0   0   0   0   0   0   0   0  18 171 219 253 253 253 253 195\n",
      "  80   9   0   0   0   0   0   0   0   0   0   0   0   0   0   0   0   0\n",
      "  55 172 226 253 253 253 253 244 133  11   0   0   0   0   0   0   0   0\n",
      "   0   0   0   0   0   0   0   0   0   0 136 253 253 253 212 135 132  16\n",
      "   0   0   0   0   0   0   0   0   0   0   0   0   0   0   0   0   0   0\n",
      "   0   0   0   0   0   0   0   0   0   0   0   0   0   0   0   0   0   0\n",
      "   0   0   0   0   0   0   0   0   0   0   0   0   0   0   0   0   0   0\n",
      "   0   0   0   0   0   0   0   0   0   0   0   0   0   0   0   0   0   0\n",
      "   0   0   0   0   0   0   0   0   0   0   0   0   0   0   0   0   0   0\n",
      "   0   0   0   0   0   0   0   0   0   0]\n"
     ]
    }
   ],
   "source": [
    "# An example data point\n",
    "print(x_train[0])"
   ]
  },
  {
   "cell_type": "code",
   "execution_count": 124,
   "metadata": {},
   "outputs": [
    {
     "name": "stdout",
     "output_type": "stream",
     "text": [
      "[0.         0.         0.         0.         0.         0.\n",
      " 0.         0.         0.         0.         0.         0.\n",
      " 0.         0.         0.         0.         0.         0.\n",
      " 0.         0.         0.         0.         0.         0.\n",
      " 0.         0.         0.         0.         0.         0.\n",
      " 0.         0.         0.         0.         0.         0.\n",
      " 0.         0.         0.         0.         0.         0.\n",
      " 0.         0.         0.         0.         0.         0.\n",
      " 0.         0.         0.         0.         0.         0.\n",
      " 0.         0.         0.         0.         0.         0.\n",
      " 0.         0.         0.         0.         0.         0.\n",
      " 0.         0.         0.         0.         0.         0.\n",
      " 0.         0.         0.         0.         0.         0.\n",
      " 0.         0.         0.         0.         0.         0.\n",
      " 0.         0.         0.         0.         0.         0.\n",
      " 0.         0.         0.         0.         0.         0.\n",
      " 0.         0.         0.         0.         0.         0.\n",
      " 0.         0.         0.         0.         0.         0.\n",
      " 0.         0.         0.         0.         0.         0.\n",
      " 0.         0.         0.         0.         0.         0.\n",
      " 0.         0.         0.         0.         0.         0.\n",
      " 0.         0.         0.         0.         0.         0.\n",
      " 0.         0.         0.         0.         0.         0.\n",
      " 0.         0.         0.         0.         0.         0.\n",
      " 0.         0.         0.         0.         0.         0.\n",
      " 0.         0.         0.01176471 0.07058824 0.07058824 0.07058824\n",
      " 0.49411765 0.53333333 0.68627451 0.10196078 0.65098039 1.\n",
      " 0.96862745 0.49803922 0.         0.         0.         0.\n",
      " 0.         0.         0.         0.         0.         0.\n",
      " 0.         0.         0.11764706 0.14117647 0.36862745 0.60392157\n",
      " 0.66666667 0.99215686 0.99215686 0.99215686 0.99215686 0.99215686\n",
      " 0.88235294 0.6745098  0.99215686 0.94901961 0.76470588 0.25098039\n",
      " 0.         0.         0.         0.         0.         0.\n",
      " 0.         0.         0.         0.         0.         0.19215686\n",
      " 0.93333333 0.99215686 0.99215686 0.99215686 0.99215686 0.99215686\n",
      " 0.99215686 0.99215686 0.99215686 0.98431373 0.36470588 0.32156863\n",
      " 0.32156863 0.21960784 0.15294118 0.         0.         0.\n",
      " 0.         0.         0.         0.         0.         0.\n",
      " 0.         0.         0.         0.07058824 0.85882353 0.99215686\n",
      " 0.99215686 0.99215686 0.99215686 0.99215686 0.77647059 0.71372549\n",
      " 0.96862745 0.94509804 0.         0.         0.         0.\n",
      " 0.         0.         0.         0.         0.         0.\n",
      " 0.         0.         0.         0.         0.         0.\n",
      " 0.         0.         0.31372549 0.61176471 0.41960784 0.99215686\n",
      " 0.99215686 0.80392157 0.04313725 0.         0.16862745 0.60392157\n",
      " 0.         0.         0.         0.         0.         0.\n",
      " 0.         0.         0.         0.         0.         0.\n",
      " 0.         0.         0.         0.         0.         0.\n",
      " 0.         0.05490196 0.00392157 0.60392157 0.99215686 0.35294118\n",
      " 0.         0.         0.         0.         0.         0.\n",
      " 0.         0.         0.         0.         0.         0.\n",
      " 0.         0.         0.         0.         0.         0.\n",
      " 0.         0.         0.         0.         0.         0.\n",
      " 0.         0.54509804 0.99215686 0.74509804 0.00784314 0.\n",
      " 0.         0.         0.         0.         0.         0.\n",
      " 0.         0.         0.         0.         0.         0.\n",
      " 0.         0.         0.         0.         0.         0.\n",
      " 0.         0.         0.         0.         0.         0.04313725\n",
      " 0.74509804 0.99215686 0.2745098  0.         0.         0.\n",
      " 0.         0.         0.         0.         0.         0.\n",
      " 0.         0.         0.         0.         0.         0.\n",
      " 0.         0.         0.         0.         0.         0.\n",
      " 0.         0.         0.         0.         0.1372549  0.94509804\n",
      " 0.88235294 0.62745098 0.42352941 0.00392157 0.         0.\n",
      " 0.         0.         0.         0.         0.         0.\n",
      " 0.         0.         0.         0.         0.         0.\n",
      " 0.         0.         0.         0.         0.         0.\n",
      " 0.         0.         0.         0.31764706 0.94117647 0.99215686\n",
      " 0.99215686 0.46666667 0.09803922 0.         0.         0.\n",
      " 0.         0.         0.         0.         0.         0.\n",
      " 0.         0.         0.         0.         0.         0.\n",
      " 0.         0.         0.         0.         0.         0.\n",
      " 0.         0.         0.17647059 0.72941176 0.99215686 0.99215686\n",
      " 0.58823529 0.10588235 0.         0.         0.         0.\n",
      " 0.         0.         0.         0.         0.         0.\n",
      " 0.         0.         0.         0.         0.         0.\n",
      " 0.         0.         0.         0.         0.         0.\n",
      " 0.         0.0627451  0.36470588 0.98823529 0.99215686 0.73333333\n",
      " 0.         0.         0.         0.         0.         0.\n",
      " 0.         0.         0.         0.         0.         0.\n",
      " 0.         0.         0.         0.         0.         0.\n",
      " 0.         0.         0.         0.         0.         0.\n",
      " 0.         0.97647059 0.99215686 0.97647059 0.25098039 0.\n",
      " 0.         0.         0.         0.         0.         0.\n",
      " 0.         0.         0.         0.         0.         0.\n",
      " 0.         0.         0.         0.         0.         0.\n",
      " 0.         0.         0.18039216 0.50980392 0.71764706 0.99215686\n",
      " 0.99215686 0.81176471 0.00784314 0.         0.         0.\n",
      " 0.         0.         0.         0.         0.         0.\n",
      " 0.         0.         0.         0.         0.         0.\n",
      " 0.         0.         0.         0.         0.15294118 0.58039216\n",
      " 0.89803922 0.99215686 0.99215686 0.99215686 0.98039216 0.71372549\n",
      " 0.         0.         0.         0.         0.         0.\n",
      " 0.         0.         0.         0.         0.         0.\n",
      " 0.         0.         0.         0.         0.         0.\n",
      " 0.09411765 0.44705882 0.86666667 0.99215686 0.99215686 0.99215686\n",
      " 0.99215686 0.78823529 0.30588235 0.         0.         0.\n",
      " 0.         0.         0.         0.         0.         0.\n",
      " 0.         0.         0.         0.         0.         0.\n",
      " 0.         0.         0.09019608 0.25882353 0.83529412 0.99215686\n",
      " 0.99215686 0.99215686 0.99215686 0.77647059 0.31764706 0.00784314\n",
      " 0.         0.         0.         0.         0.         0.\n",
      " 0.         0.         0.         0.         0.         0.\n",
      " 0.         0.         0.         0.         0.07058824 0.67058824\n",
      " 0.85882353 0.99215686 0.99215686 0.99215686 0.99215686 0.76470588\n",
      " 0.31372549 0.03529412 0.         0.         0.         0.\n",
      " 0.         0.         0.         0.         0.         0.\n",
      " 0.         0.         0.         0.         0.         0.\n",
      " 0.21568627 0.6745098  0.88627451 0.99215686 0.99215686 0.99215686\n",
      " 0.99215686 0.95686275 0.52156863 0.04313725 0.         0.\n",
      " 0.         0.         0.         0.         0.         0.\n",
      " 0.         0.         0.         0.         0.         0.\n",
      " 0.         0.         0.         0.         0.53333333 0.99215686\n",
      " 0.99215686 0.99215686 0.83137255 0.52941176 0.51764706 0.0627451\n",
      " 0.         0.         0.         0.         0.         0.\n",
      " 0.         0.         0.         0.         0.         0.\n",
      " 0.         0.         0.         0.         0.         0.\n",
      " 0.         0.         0.         0.         0.         0.\n",
      " 0.         0.         0.         0.         0.         0.\n",
      " 0.         0.         0.         0.         0.         0.\n",
      " 0.         0.         0.         0.         0.         0.\n",
      " 0.         0.         0.         0.         0.         0.\n",
      " 0.         0.         0.         0.         0.         0.\n",
      " 0.         0.         0.         0.         0.         0.\n",
      " 0.         0.         0.         0.         0.         0.\n",
      " 0.         0.         0.         0.         0.         0.\n",
      " 0.         0.         0.         0.         0.         0.\n",
      " 0.         0.         0.         0.         0.         0.\n",
      " 0.         0.         0.         0.         0.         0.\n",
      " 0.         0.         0.         0.         0.         0.\n",
      " 0.         0.         0.         0.        ]\n"
     ]
    }
   ],
   "source": [
    "# if we observe the above matrix each cell is having a value between 0-255\n",
    "# before we move to apply machine learning algorithms lets try to normalize the data\n",
    "# X_std => (X - Xmin)/(Xmax-Xmin)\n",
    "# X_scaled = X_std * (Xmax - Xmin) + Xmin\n",
    "minMaxScaler = MinMaxScaler()\n",
    "\n",
    "x_train = minMaxScaler.fit_transform(x_train)\n",
    "x_test = minMaxScaler.transform(x_test)\n",
    "\n",
    "# x_train data point after normlizing.\n",
    "print(x_train[0])"
   ]
  },
  {
   "cell_type": "code",
   "execution_count": 125,
   "metadata": {},
   "outputs": [
    {
     "name": "stdout",
     "output_type": "stream",
     "text": [
      "After converting the output 5 into a vector : [0. 0. 0. 0. 0. 1. 0. 0. 0. 0.]\n"
     ]
    }
   ],
   "source": [
    "temp = y_train[0]\n",
    "y_train = keras.utils.to_categorical(y_train)\n",
    "y_test = keras.utils.to_categorical(y_test)\n",
    "\n",
    "print(\"After converting the output {0} into a vector : {1}\".format(temp,y_train[0]))"
   ]
  },
  {
   "cell_type": "markdown",
   "metadata": {},
   "source": [
    "<br/>\n",
    "<br/>"
   ]
  },
  {
   "cell_type": "code",
   "execution_count": 166,
   "metadata": {},
   "outputs": [],
   "source": [
    "# Plot train and cross validation loss\n",
    "def plot_train_cv_loss(trained_model, epochs, colors=['b']):\n",
    "    fig, ax = plt.subplots(1,1)    \n",
    "    ax.set_xlabel('epoch') \n",
    "    ax.set_ylabel('Categorical Crossentropy Loss')\n",
    "    x_axis_values = list(range(1,epochs+1))\n",
    "\n",
    "    validation_loss = trained_model.history['val_loss']\n",
    "    train_loss = trained_model.history['loss']   \n",
    "    \n",
    "    ax.plot(x_axis_values, validation_loss, 'b', label=\"Validation Loss\")\n",
    "    ax.plot(x_axis_values, train_loss, 'r', label=\"Train Loss\")\n",
    "    plt.legend()\n",
    "    plt.grid()\n",
    "    fig.canvas.draw()\n",
    "    \n",
    "    \n",
    "# Plot weight distribution using violin plot\n",
    "def plot_weights(model):\n",
    "    w_after = model.get_weights()\n",
    "\n",
    "    o1_w = w_after[0].flatten().reshape(-1,1)\n",
    "    o2_w = w_after[2].flatten().reshape(-1,1)\n",
    "    out_w = w_after[4].flatten().reshape(-1,1)\n",
    "\n",
    "\n",
    "    fig = plt.figure(figsize=(10,7))\n",
    "    plt.title(\"Weight matrices after model trained\\n\")\n",
    "    plt.subplot(1, 3, 1)\n",
    "    plt.title(\"Trained model\\n Weights\")\n",
    "    ax = sns.violinplot(y=o1_w,color='b')\n",
    "    plt.xlabel('Hidden Layer 1')\n",
    "\n",
    "    plt.subplot(1, 3, 2)\n",
    "    plt.title(\"Trained model\\n Weights\")\n",
    "    ax = sns.violinplot(y=o2_w, color='r')\n",
    "    plt.xlabel('Hidden Layer 2 ')\n",
    "\n",
    "    plt.subplot(1, 3, 3)\n",
    "    plt.title(\"Trained model\\n Weights\")\n",
    "    ax = sns.violinplot(y=out_w,color='y')\n",
    "    plt.xlabel('Output Layer ')\n",
    "    plt.show()"
   ]
  },
  {
   "cell_type": "markdown",
   "metadata": {},
   "source": [
    "#### With 2-Hidden Layers"
   ]
  },
  {
   "cell_type": "code",
   "execution_count": 128,
   "metadata": {},
   "outputs": [],
   "source": [
    "# Batch size \n",
    "batch_size = 128 \n",
    "\n",
    "# Number of time whole data is trained\n",
    "epochs = 20\n",
    "\n",
    "# Input layer dimension \n",
    "input_dimension = x_train.shape[1]\n",
    "\n",
    "# Output layer dimension \n",
    "output_dimension = y_train.shape[1]"
   ]
  },
  {
   "cell_type": "code",
   "execution_count": 129,
   "metadata": {},
   "outputs": [
    {
     "name": "stdout",
     "output_type": "stream",
     "text": [
      "Model Summary: \n",
      "\n",
      "_________________________________________________________________\n",
      "Layer (type)                 Output Shape              Param #   \n",
      "=================================================================\n",
      "dense_4 (Dense)              (None, 512)               401920    \n",
      "_________________________________________________________________\n",
      "batch_normalization_4 (Batch (None, 512)               2048      \n",
      "_________________________________________________________________\n",
      "dropout_3 (Dropout)          (None, 512)               0         \n",
      "_________________________________________________________________\n",
      "dense_5 (Dense)              (None, 128)               65664     \n",
      "_________________________________________________________________\n",
      "batch_normalization_5 (Batch (None, 128)               512       \n",
      "_________________________________________________________________\n",
      "dropout_4 (Dropout)          (None, 128)               0         \n",
      "_________________________________________________________________\n",
      "dense_6 (Dense)              (None, 10)                1290      \n",
      "=================================================================\n",
      "Total params: 471,434\n",
      "Trainable params: 470,154\n",
      "Non-trainable params: 1,280\n",
      "_________________________________________________________________\n",
      "\n",
      "\n",
      "Train on 60000 samples, validate on 10000 samples\n",
      "Epoch 1/20\n",
      "60000/60000 [==============================] - 10s 163us/step - loss: 0.4283 - acc: 0.8700 - val_loss: 0.1467 - val_acc: 0.9534\n",
      "Epoch 2/20\n",
      "60000/60000 [==============================] - 7s 124us/step - loss: 0.2024 - acc: 0.9391 - val_loss: 0.1050 - val_acc: 0.9665\n",
      "Epoch 3/20\n",
      "60000/60000 [==============================] - 7s 123us/step - loss: 0.1585 - acc: 0.9518 - val_loss: 0.0935 - val_acc: 0.9712\n",
      "Epoch 4/20\n",
      "60000/60000 [==============================] - 7s 123us/step - loss: 0.1350 - acc: 0.9588 - val_loss: 0.0785 - val_acc: 0.9756\n",
      "Epoch 5/20\n",
      "60000/60000 [==============================] - 7s 124us/step - loss: 0.1214 - acc: 0.9628 - val_loss: 0.0749 - val_acc: 0.9768\n",
      "Epoch 6/20\n",
      "60000/60000 [==============================] - 8s 129us/step - loss: 0.1077 - acc: 0.9669 - val_loss: 0.0720 - val_acc: 0.9779\n",
      "Epoch 7/20\n",
      "60000/60000 [==============================] - 8s 127us/step - loss: 0.1003 - acc: 0.9692 - val_loss: 0.0676 - val_acc: 0.9800\n",
      "Epoch 8/20\n",
      "60000/60000 [==============================] - 8s 129us/step - loss: 0.0917 - acc: 0.9724 - val_loss: 0.0677 - val_acc: 0.9792\n",
      "Epoch 9/20\n",
      "60000/60000 [==============================] - 8s 130us/step - loss: 0.0868 - acc: 0.9729 - val_loss: 0.0625 - val_acc: 0.9805\n",
      "Epoch 10/20\n",
      "60000/60000 [==============================] - 9s 154us/step - loss: 0.0767 - acc: 0.9757 - val_loss: 0.0623 - val_acc: 0.9814\n",
      "Epoch 11/20\n",
      "60000/60000 [==============================] - 8s 132us/step - loss: 0.0771 - acc: 0.9756 - val_loss: 0.0641 - val_acc: 0.9810\n",
      "Epoch 12/20\n",
      "60000/60000 [==============================] - 8s 136us/step - loss: 0.0750 - acc: 0.9770 - val_loss: 0.0587 - val_acc: 0.9815\n",
      "Epoch 13/20\n",
      "60000/60000 [==============================] - 8s 132us/step - loss: 0.0689 - acc: 0.9781 - val_loss: 0.0635 - val_acc: 0.9810\n",
      "Epoch 14/20\n",
      "60000/60000 [==============================] - 8s 138us/step - loss: 0.0696 - acc: 0.9778 - val_loss: 0.0609 - val_acc: 0.9827\n",
      "Epoch 15/20\n",
      "60000/60000 [==============================] - 8s 136us/step - loss: 0.0648 - acc: 0.9797 - val_loss: 0.0565 - val_acc: 0.9826\n",
      "Epoch 16/20\n",
      "60000/60000 [==============================] - 8s 139us/step - loss: 0.0617 - acc: 0.9809 - val_loss: 0.0569 - val_acc: 0.9834\n",
      "Epoch 17/20\n",
      "60000/60000 [==============================] - 9s 146us/step - loss: 0.0589 - acc: 0.9810 - val_loss: 0.0547 - val_acc: 0.9834\n",
      "Epoch 18/20\n",
      "60000/60000 [==============================] - 10s 171us/step - loss: 0.0561 - acc: 0.9823 - val_loss: 0.0541 - val_acc: 0.9846\n",
      "Epoch 19/20\n",
      "60000/60000 [==============================] - 9s 146us/step - loss: 0.0525 - acc: 0.9827 - val_loss: 0.0572 - val_acc: 0.9834\n",
      "Epoch 20/20\n",
      "60000/60000 [==============================] - 9s 145us/step - loss: 0.0538 - acc: 0.9833 - val_loss: 0.0527 - val_acc: 0.9835\n"
     ]
    }
   ],
   "source": [
    "# Instantiate sequential model\n",
    "model = Sequential()\n",
    "\n",
    "# Add 1st hidden layer : dense Layer\n",
    "dense_layer1 = Dense(512,\n",
    "                       activation=\"relu\",\n",
    "                       input_shape=(input_dimension,),\n",
    "                       kernel_initializer= he_normal(seed=None))\n",
    "model.add(dense_layer1)\n",
    "\n",
    "# Add batch normalization\n",
    "model.add(BatchNormalization())\n",
    "\n",
    "# Add dropout\n",
    "model.add(Dropout(0.5))\n",
    "\n",
    "# Add 2nd hidden layer : dense Layer\n",
    "dense_layer2 = Dense(128,\n",
    "                       activation=\"relu\",                   \n",
    "                       kernel_initializer= he_normal(seed=None))\n",
    "model.add(dense_layer2)\n",
    "\n",
    "# Add batch normalization\n",
    "model.add(BatchNormalization())\n",
    "\n",
    "# Add dropout\n",
    "model.add(Dropout(0.5))\n",
    "\n",
    "# Add output layer : dense Layer\n",
    "dense_layer3 = Dense(output_dimension, activation='softmax')\n",
    "model.add(dense_layer3)\n",
    "\n",
    "# Summary of the model\n",
    "print(\"Model Summary: \\n\")\n",
    "model.summary()\n",
    "print()\n",
    "print()\n",
    "\n",
    "# Compile the model\n",
    "model.compile(optimizer='adam', loss='categorical_crossentropy', metrics=['accuracy'])\n",
    "\n",
    "# Run the model\n",
    "trained_model = model.fit(x_train, y_train, batch_size = batch_size, epochs = epochs, verbose=1, validation_data=(x_test, y_test))"
   ]
  },
  {
   "cell_type": "code",
   "execution_count": 150,
   "metadata": {},
   "outputs": [
    {
     "name": "stdout",
     "output_type": "stream",
     "text": [
      "Test score: 0.052687030650049566\n",
      "Test accuracy: 98.35%\n"
     ]
    }
   ],
   "source": [
    "score = model.evaluate(x_test, y_test, verbose=0) \n",
    "print('Test score:', score[0]) \n",
    "print('Test accuracy: {0:.2f}%'.format(score[1]*100))"
   ]
  },
  {
   "cell_type": "code",
   "execution_count": 167,
   "metadata": {},
   "outputs": [
    {
     "name": "stdout",
     "output_type": "stream",
     "text": [
      "\n",
      "\n"
     ]
    },
    {
     "data": {
      "image/png": "[encoded data removed]",
      "text/plain": [
       "<Figure size 720x504 with 3 Axes>"
      ]
     },
     "metadata": {
      "needs_background": "light"
     },
     "output_type": "display_data"
    },
    {
     "name": "stdout",
     "output_type": "stream",
     "text": [
      "\n",
      "\n"
     ]
    },
    {
     "data": {
      "image/png": "[encoded data removed]",
      "text/plain": [
       "<Figure size 432x288 with 1 Axes>"
      ]
     },
     "metadata": {
      "needs_background": "light"
     },
     "output_type": "display_data"
    }
   ],
   "source": [
    "print()\n",
    "print()\n",
    "# Plot weight distribution using violin plot\n",
    "plot_weights(model)\n",
    "\n",
    "print()\n",
    "print()\n",
    "\n",
    "# Plot train and cross validation error\n",
    "plot_train_cv_loss(trained_model, epochs)"
   ]
  },
  {
   "cell_type": "markdown",
   "metadata": {},
   "source": [
    "<br/>\n",
    "\n",
    "#### On 16th epoch we find that validation error and train error comes together, so best value for epoch is 16-18"
   ]
  },
  {
   "cell_type": "markdown",
   "metadata": {},
   "source": [
    "</br>\n",
    "</br>"
   ]
  },
  {
   "cell_type": "markdown",
   "metadata": {},
   "source": [
    "#### With 3-Hidden Layers"
   ]
  },
  {
   "cell_type": "code",
   "execution_count": 168,
   "metadata": {},
   "outputs": [
    {
     "name": "stdout",
     "output_type": "stream",
     "text": [
      "Model Summary: \n",
      "\n",
      "_________________________________________________________________\n",
      "Layer (type)                 Output Shape              Param #   \n",
      "=================================================================\n",
      "dense_7 (Dense)              (None, 512)               401920    \n",
      "_________________________________________________________________\n",
      "batch_normalization_6 (Batch (None, 512)               2048      \n",
      "_________________________________________________________________\n",
      "dropout_5 (Dropout)          (None, 512)               0         \n",
      "_________________________________________________________________\n",
      "dense_8 (Dense)              (None, 256)               131328    \n",
      "_________________________________________________________________\n",
      "dense_9 (Dense)              (None, 128)               32896     \n",
      "_________________________________________________________________\n",
      "batch_normalization_7 (Batch (None, 128)               512       \n",
      "_________________________________________________________________\n",
      "dropout_6 (Dropout)          (None, 128)               0         \n",
      "_________________________________________________________________\n",
      "dense_10 (Dense)             (None, 10)                1290      \n",
      "=================================================================\n",
      "Total params: 569,994\n",
      "Trainable params: 568,714\n",
      "Non-trainable params: 1,280\n",
      "_________________________________________________________________\n",
      "\n",
      "\n",
      "Train on 60000 samples, validate on 10000 samples\n",
      "Epoch 1/20\n",
      "60000/60000 [==============================] - 10s 165us/step - loss: 0.4073 - acc: 0.8767 - val_loss: 0.1355 - val_acc: 0.9572\n",
      "Epoch 2/20\n",
      "60000/60000 [==============================] - 9s 145us/step - loss: 0.1851 - acc: 0.9446 - val_loss: 0.1001 - val_acc: 0.9683\n",
      "Epoch 3/20\n",
      "60000/60000 [==============================] - 9s 146us/step - loss: 0.1462 - acc: 0.9558 - val_loss: 0.0864 - val_acc: 0.9730\n",
      "Epoch 4/20\n",
      "60000/60000 [==============================] - 11s 180us/step - loss: 0.1237 - acc: 0.9622 - val_loss: 0.0697 - val_acc: 0.9779\n",
      "Epoch 5/20\n",
      "60000/60000 [==============================] - 9s 151us/step - loss: 0.1073 - acc: 0.9665 - val_loss: 0.0728 - val_acc: 0.9766\n",
      "Epoch 6/20\n",
      "60000/60000 [==============================] - 9s 154us/step - loss: 0.0998 - acc: 0.9697 - val_loss: 0.0634 - val_acc: 0.9804\n",
      "Epoch 7/20\n",
      "60000/60000 [==============================] - 9s 155us/step - loss: 0.0913 - acc: 0.9722 - val_loss: 0.0616 - val_acc: 0.9804\n",
      "Epoch 8/20\n",
      "60000/60000 [==============================] - 9s 155us/step - loss: 0.0824 - acc: 0.9744 - val_loss: 0.0672 - val_acc: 0.9793\n",
      "Epoch 9/20\n",
      "60000/60000 [==============================] - 10s 159us/step - loss: 0.0794 - acc: 0.9755 - val_loss: 0.0582 - val_acc: 0.9817\n",
      "Epoch 10/20\n",
      "60000/60000 [==============================] - 10s 159us/step - loss: 0.0726 - acc: 0.9768 - val_loss: 0.0648 - val_acc: 0.9804\n",
      "Epoch 11/20\n",
      "60000/60000 [==============================] - 11s 187us/step - loss: 0.0670 - acc: 0.9790 - val_loss: 0.0575 - val_acc: 0.9824\n",
      "Epoch 12/20\n",
      "60000/60000 [==============================] - 10s 164us/step - loss: 0.0663 - acc: 0.9793 - val_loss: 0.0575 - val_acc: 0.9818\n",
      "Epoch 13/20\n",
      "60000/60000 [==============================] - 10s 166us/step - loss: 0.0623 - acc: 0.9805 - val_loss: 0.0586 - val_acc: 0.9822\n",
      "Epoch 14/20\n",
      "60000/60000 [==============================] - 10s 167us/step - loss: 0.0583 - acc: 0.9822 - val_loss: 0.0591 - val_acc: 0.9834\n",
      "Epoch 15/20\n",
      "60000/60000 [==============================] - 10s 169us/step - loss: 0.0559 - acc: 0.9816 - val_loss: 0.0531 - val_acc: 0.9830\n",
      "Epoch 16/20\n",
      "60000/60000 [==============================] - 10s 173us/step - loss: 0.0541 - acc: 0.9827 - val_loss: 0.0531 - val_acc: 0.9846\n",
      "Epoch 17/20\n",
      "60000/60000 [==============================] - 12s 207us/step - loss: 0.0524 - acc: 0.9833 - val_loss: 0.0553 - val_acc: 0.9843\n",
      "Epoch 18/20\n",
      "60000/60000 [==============================] - 11s 180us/step - loss: 0.0483 - acc: 0.9851 - val_loss: 0.0526 - val_acc: 0.9850\n",
      "Epoch 19/20\n",
      "60000/60000 [==============================] - 11s 185us/step - loss: 0.0464 - acc: 0.9847 - val_loss: 0.0554 - val_acc: 0.9839\n",
      "Epoch 20/20\n",
      "60000/60000 [==============================] - 12s 194us/step - loss: 0.0441 - acc: 0.9854 - val_loss: 0.0559 - val_acc: 0.9845\n"
     ]
    }
   ],
   "source": [
    "# Instantiate sequential model\n",
    "model = Sequential()\n",
    "\n",
    "# Add 1st hidden layer : dense Layer\n",
    "dense_layer1 = Dense(512,\n",
    "                       activation=\"relu\",\n",
    "                       input_shape=(input_dimension,),\n",
    "                       kernel_initializer= he_normal(seed=None))\n",
    "model.add(dense_layer1)\n",
    "\n",
    "# Add batch normalization\n",
    "model.add(BatchNormalization())\n",
    "\n",
    "# Add dropout\n",
    "model.add(Dropout(0.5))\n",
    "\n",
    "# Add 2nd hidden layer : dense Layer\n",
    "dense_layer2 = Dense(256,\n",
    "                       activation=\"relu\",                   \n",
    "                       kernel_initializer= he_normal(seed=None))\n",
    "model.add(dense_layer2)\n",
    "\n",
    "# Add 3rd hidden layer : dense Layer\n",
    "dense_layer3 = Dense(128,\n",
    "                       activation=\"relu\",                   \n",
    "                       kernel_initializer= he_normal(seed=None))\n",
    "model.add(dense_layer3)\n",
    "\n",
    "\n",
    "# Add batch normalization\n",
    "model.add(BatchNormalization())\n",
    "\n",
    "# Add dropout\n",
    "model.add(Dropout(0.5))\n",
    "\n",
    "# Add output layer : dense Layer\n",
    "dense_layer4 = Dense(output_dimension, activation='softmax')\n",
    "model.add(dense_layer4)\n",
    "\n",
    "# Summary of the model\n",
    "print(\"Model Summary: \\n\")\n",
    "model.summary()\n",
    "print()\n",
    "print()\n",
    "\n",
    "# Compile the model\n",
    "model.compile(optimizer='adam', loss='categorical_crossentropy', metrics=['accuracy'])\n",
    "\n",
    "# Run the model\n",
    "trained_model = model.fit(x_train, y_train, batch_size = batch_size, epochs = epochs, verbose=1, validation_data=(x_test, y_test))"
   ]
  },
  {
   "cell_type": "code",
   "execution_count": 169,
   "metadata": {},
   "outputs": [
    {
     "name": "stdout",
     "output_type": "stream",
     "text": [
      "Test score: 0.05587759582863073\n",
      "Test accuracy: 98.45%\n"
     ]
    }
   ],
   "source": [
    "score = model.evaluate(x_test, y_test, verbose=0) \n",
    "print('Test score:', score[0]) \n",
    "print('Test accuracy: {0:.2f}%'.format(score[1]*100))"
   ]
  },
  {
   "cell_type": "code",
   "execution_count": 170,
   "metadata": {},
   "outputs": [
    {
     "name": "stdout",
     "output_type": "stream",
     "text": [
      "\n",
      "\n"
     ]
    },
    {
     "data": {
      "image/png": "[encoded data removed]",
      "text/plain": [
       "<Figure size 720x504 with 3 Axes>"
      ]
     },
     "metadata": {
      "needs_background": "light"
     },
     "output_type": "display_data"
    },
    {
     "name": "stdout",
     "output_type": "stream",
     "text": [
      "\n",
      "\n"
     ]
    },
    {
     "data": {
      "image/png": "[encoded data removed]",
      "text/plain": [
       "<Figure size 432x288 with 1 Axes>"
      ]
     },
     "metadata": {
      "needs_background": "light"
     },
     "output_type": "display_data"
    }
   ],
   "source": [
    "print()\n",
    "print()\n",
    "# Plot weight distribution using violin plot\n",
    "plot_weights(model)\n",
    "\n",
    "print()\n",
    "print()\n",
    "\n",
    "# Plot train and cross validation error\n",
    "plot_train_cv_loss(trained_model, epochs)"
   ]
  },
  {
   "cell_type": "markdown",
   "metadata": {},
   "source": [
    "<br/>\n",
    "\n",
    "#### On 12th epoch we find that validation error and train error comes together, so best value for epoch is 12-13"
   ]
  },
  {
   "cell_type": "markdown",
   "metadata": {},
   "source": [
    "<br/>\n",
    "<br/>"
   ]
  },
  {
   "cell_type": "markdown",
   "metadata": {},
   "source": [
    "#### With 5-Hidden Layers"
   ]
  },
  {
   "cell_type": "code",
   "execution_count": 173,
   "metadata": {},
   "outputs": [
    {
     "name": "stdout",
     "output_type": "stream",
     "text": [
      "Model Summary: \n",
      "\n",
      "_________________________________________________________________\n",
      "Layer (type)                 Output Shape              Param #   \n",
      "=================================================================\n",
      "dense_11 (Dense)             (None, 624)               489840    \n",
      "_________________________________________________________________\n",
      "batch_normalization_8 (Batch (None, 624)               2496      \n",
      "_________________________________________________________________\n",
      "dropout_7 (Dropout)          (None, 624)               0         \n",
      "_________________________________________________________________\n",
      "dense_12 (Dense)             (None, 474)               296250    \n",
      "_________________________________________________________________\n",
      "dense_13 (Dense)             (None, 324)               153900    \n",
      "_________________________________________________________________\n",
      "batch_normalization_9 (Batch (None, 324)               1296      \n",
      "_________________________________________________________________\n",
      "dropout_8 (Dropout)          (None, 324)               0         \n",
      "_________________________________________________________________\n",
      "dense_14 (Dense)             (None, 174)               56550     \n",
      "_________________________________________________________________\n",
      "dense_15 (Dense)             (None, 24)                4200      \n",
      "_________________________________________________________________\n",
      "batch_normalization_10 (Batc (None, 24)                96        \n",
      "_________________________________________________________________\n",
      "dropout_9 (Dropout)          (None, 24)                0         \n",
      "_________________________________________________________________\n",
      "dense_16 (Dense)             (None, 10)                250       \n",
      "=================================================================\n",
      "Total params: 1,004,878\n",
      "Trainable params: 1,002,934\n",
      "Non-trainable params: 1,944\n",
      "_________________________________________________________________\n",
      "\n",
      "\n",
      "Train on 60000 samples, validate on 10000 samples\n",
      "Epoch 1/20\n",
      "60000/60000 [==============================] - 14s 241us/step - loss: 0.6557 - acc: 0.8123 - val_loss: 0.1558 - val_acc: 0.9541\n",
      "Epoch 2/20\n",
      "60000/60000 [==============================] - 14s 236us/step - loss: 0.2663 - acc: 0.9330 - val_loss: 0.1104 - val_acc: 0.9671\n",
      "Epoch 3/20\n",
      "60000/60000 [==============================] - 13s 215us/step - loss: 0.2048 - acc: 0.9481 - val_loss: 0.1047 - val_acc: 0.9709\n",
      "Epoch 4/20\n",
      "60000/60000 [==============================] - 13s 213us/step - loss: 0.1788 - acc: 0.9546 - val_loss: 0.0894 - val_acc: 0.9744\n",
      "Epoch 5/20\n",
      "60000/60000 [==============================] - 13s 218us/step - loss: 0.1557 - acc: 0.9598 - val_loss: 0.0827 - val_acc: 0.9761\n",
      "Epoch 6/20\n",
      "60000/60000 [==============================] - 13s 221us/step - loss: 0.1415 - acc: 0.9635 - val_loss: 0.0789 - val_acc: 0.9774\n",
      "Epoch 7/20\n",
      "60000/60000 [==============================] - 15s 247us/step - loss: 0.1301 - acc: 0.9668 - val_loss: 0.0755 - val_acc: 0.9795\n",
      "Epoch 8/20\n",
      "60000/60000 [==============================] - 14s 226us/step - loss: 0.1229 - acc: 0.9690 - val_loss: 0.0759 - val_acc: 0.9800\n",
      "Epoch 9/20\n",
      "60000/60000 [==============================] - 14s 232us/step - loss: 0.1139 - acc: 0.9709 - val_loss: 0.0766 - val_acc: 0.9800\n",
      "Epoch 10/20\n",
      "60000/60000 [==============================] - 14s 235us/step - loss: 0.1072 - acc: 0.9730 - val_loss: 0.0710 - val_acc: 0.9814\n",
      "Epoch 11/20\n",
      "60000/60000 [==============================] - 14s 237us/step - loss: 0.0994 - acc: 0.9748 - val_loss: 0.0657 - val_acc: 0.9819\n",
      "Epoch 12/20\n",
      "60000/60000 [==============================] - 17s 283us/step - loss: 0.0934 - acc: 0.9757 - val_loss: 0.0725 - val_acc: 0.9811\n",
      "Epoch 13/20\n",
      "60000/60000 [==============================] - 17s 288us/step - loss: 0.0907 - acc: 0.9768 - val_loss: 0.0640 - val_acc: 0.9816\n",
      "Epoch 14/20\n",
      "60000/60000 [==============================] - 16s 261us/step - loss: 0.0859 - acc: 0.9782 - val_loss: 0.0638 - val_acc: 0.9833\n",
      "Epoch 15/20\n",
      "60000/60000 [==============================] - 16s 263us/step - loss: 0.0845 - acc: 0.9778 - val_loss: 0.0672 - val_acc: 0.9811\n",
      "Epoch 16/20\n",
      "60000/60000 [==============================] - 18s 300us/step - loss: 0.0789 - acc: 0.9794 - val_loss: 0.0624 - val_acc: 0.9841\n",
      "Epoch 17/20\n",
      "60000/60000 [==============================] - 16s 267us/step - loss: 0.0759 - acc: 0.9799 - val_loss: 0.0649 - val_acc: 0.9848\n",
      "Epoch 18/20\n",
      "60000/60000 [==============================] - 16s 273us/step - loss: 0.0765 - acc: 0.9805 - val_loss: 0.0634 - val_acc: 0.9846\n",
      "Epoch 19/20\n",
      "60000/60000 [==============================] - 18s 296us/step - loss: 0.0711 - acc: 0.9817 - val_loss: 0.0642 - val_acc: 0.9840\n",
      "Epoch 20/20\n",
      "60000/60000 [==============================] - 17s 290us/step - loss: 0.0679 - acc: 0.9824 - val_loss: 0.0593 - val_acc: 0.9844\n"
     ]
    }
   ],
   "source": [
    "# Instantiate sequential model\n",
    "model = Sequential()\n",
    "\n",
    "# Add 1st hidden layer : dense Layer\n",
    "dense_layer1 = Dense(624,\n",
    "                       activation=\"relu\",\n",
    "                       input_shape=(input_dimension,),\n",
    "                       kernel_initializer= he_normal(seed=None))\n",
    "model.add(dense_layer1)\n",
    "\n",
    "# Add batch normalization\n",
    "model.add(BatchNormalization())\n",
    "\n",
    "# Add dropout\n",
    "model.add(Dropout(0.5))\n",
    "\n",
    "# Add 2nd hidden layer : dense Layer\n",
    "dense_layer2 = Dense(474,\n",
    "                       activation=\"relu\",                   \n",
    "                       kernel_initializer= he_normal(seed=None))\n",
    "model.add(dense_layer2)\n",
    "\n",
    "# Add 3rd hidden layer : dense Layer\n",
    "dense_layer3 = Dense(324,\n",
    "                       activation=\"relu\",                   \n",
    "                       kernel_initializer= he_normal(seed=None))\n",
    "model.add(dense_layer3)\n",
    "\n",
    "# Add batch normalization\n",
    "model.add(BatchNormalization())\n",
    "\n",
    "# Add dropout\n",
    "model.add(Dropout(0.5))\n",
    "\n",
    "# Add 4th hidden layer : dense Layer\n",
    "dense_layer4 = Dense(174,\n",
    "                       activation=\"relu\",                   \n",
    "                       kernel_initializer= he_normal(seed=None))\n",
    "model.add(dense_layer4)\n",
    "\n",
    "# Add 5th hidden layer : dense Layer\n",
    "dense_layer5 = Dense(24,\n",
    "                       activation=\"relu\",                   \n",
    "                       kernel_initializer= he_normal(seed=None))\n",
    "model.add(dense_layer5)\n",
    "\n",
    "# Add batch normalization\n",
    "model.add(BatchNormalization())\n",
    "\n",
    "# Add dropout\n",
    "model.add(Dropout(0.5))\n",
    "\n",
    "# Add output layer : dense Layer\n",
    "dense_layer4 = Dense(output_dimension, activation='softmax')\n",
    "model.add(dense_layer4)\n",
    "\n",
    "# Summary of the model\n",
    "print(\"Model Summary: \\n\")\n",
    "model.summary()\n",
    "print()\n",
    "print()\n",
    "\n",
    "# Compile the model\n",
    "model.compile(optimizer='adam', loss='categorical_crossentropy', metrics=['accuracy'])\n",
    "\n",
    "# Run the model\n",
    "trained_model = model.fit(x_train, y_train, batch_size = batch_size, epochs = epochs, verbose=1, validation_data=(x_test, y_test))"
   ]
  },
  {
   "cell_type": "code",
   "execution_count": 174,
   "metadata": {},
   "outputs": [
    {
     "name": "stdout",
     "output_type": "stream",
     "text": [
      "Test score: 0.0593049447054018\n",
      "Test accuracy: 98.44%\n"
     ]
    }
   ],
   "source": [
    "score = model.evaluate(x_test, y_test, verbose=0) \n",
    "print('Test score:', score[0]) \n",
    "print('Test accuracy: {0:.2f}%'.format(score[1]*100))"
   ]
  },
  {
   "cell_type": "code",
   "execution_count": 175,
   "metadata": {},
   "outputs": [
    {
     "name": "stdout",
     "output_type": "stream",
     "text": [
      "\n",
      "\n"
     ]
    },
    {
     "data": {
      "image/png": "[encoded data removed]",
      "text/plain": [
       "<Figure size 720x504 with 3 Axes>"
      ]
     },
     "metadata": {
      "needs_background": "light"
     },
     "output_type": "display_data"
    },
    {
     "name": "stdout",
     "output_type": "stream",
     "text": [
      "\n",
      "\n"
     ]
    },
    {
     "data": {
      "image/png": "[encoded data removed]",
      "text/plain": [
       "<Figure size 432x288 with 1 Axes>"
      ]
     },
     "metadata": {
      "needs_background": "light"
     },
     "output_type": "display_data"
    }
   ],
   "source": [
    "print()\n",
    "print()\n",
    "# Plot weight distribution using violin plot\n",
    "plot_weights(model)\n",
    "\n",
    "print()\n",
    "print()\n",
    "\n",
    "# Plot train and cross validation error\n",
    "plot_train_cv_loss(trained_model, epochs)"
   ]
  },
  {
   "cell_type": "markdown",
   "metadata": {},
   "source": [
    "<br/>\n",
    "\n",
    "#### On 19th epoch we find that validation error and train error comes together, so best value for epoch is 19-20"
   ]
  },
  {
   "cell_type": "markdown",
   "metadata": {},
   "source": [
    "<br/>\n",
    "<br/>"
   ]
  },
  {
   "cell_type": "markdown",
   "metadata": {},
   "source": [
    "---\n",
    "### Observations :\n",
    "---"
   ]
  },
  {
   "cell_type": "markdown",
   "metadata": {},
   "source": [
    "> 1. Tried different MLP architectures on MNIST dataset.\n",
    "> 2. 'Relu' is used as an activation function to develop MLP. \n",
    "> 3. 'Adam' is used as an optimizer to develop MLP. \n",
    "> 4. Introduced batch normalization and dropout in between hidden layers.\n",
    "> 5. Got 98.35, 98.45 and 98.44 accuracies for 2,3 and 5 hidden layers."
   ]
  }
 ],
 "metadata": {
  "kernelspec": {
   "display_name": "Python 3",
   "language": "python",
   "name": "python3"
  },
  "language_info": {
   "codemirror_mode": {
    "name": "ipython",
    "version": 3
   },
   "file_extension": ".py",
   "mimetype": "text/x-python",
   "name": "python",
   "nbconvert_exporter": "python",
   "pygments_lexer": "ipython3",
   "version": "3.6.6"
  }
 },
 "nbformat": 4,
 "nbformat_minor": 2
}
